{
  "cells": [
    {
      "cell_type": "markdown",
      "metadata": {
        "id": "view-in-github",
        "colab_type": "text"
      },
      "source": [
        "<a href=\"https://colab.research.google.com/github/HafsaNoorMuhammad26/Budget-App/blob/main/IntensiveProgramming.ipynb\" target=\"_parent\"><img src=\"https://colab.research.google.com/assets/colab-badge.svg\" alt=\"Open In Colab\"/></a>"
      ]
    },
    {
      "cell_type": "raw",
      "id": "08e162f4-524a-4578-a514-e65e30d58f88",
      "metadata": {
        "id": "08e162f4-524a-4578-a514-e65e30d58f88"
      },
      "source": [
        "# **Simple Python Programs**"
      ]
    },
    {
      "cell_type": "raw",
      "id": "2164120a-70f8-4482-afa9-bc70feb9e073",
      "metadata": {
        "id": "2164120a-70f8-4482-afa9-bc70feb9e073"
      },
      "source": [
        "1.\tWrite Python Program to Calculate the Average of Numbers in a Given List"
      ]
    },
    {
      "cell_type": "code",
      "execution_count": null,
      "id": "d9c68ceb-6b3a-4868-a219-b5101118ba23",
      "metadata": {
        "id": "d9c68ceb-6b3a-4868-a219-b5101118ba23",
        "outputId": "b433974b-a833-486c-bd6e-e4f18aad06e2"
      },
      "outputs": [
        {
          "name": "stdout",
          "output_type": "stream",
          "text": [
            "The Average of Numbers in a Given List is: 6.0\n"
          ]
        }
      ],
      "source": [
        "list = [2, 4, 6, 8, 10]\n",
        "avg = sum(list) / len(list)\n",
        "print(f\"The Average of Numbers in a Given List is: {avg}\")"
      ]
    },
    {
      "cell_type": "raw",
      "id": "f699270b-fbb5-4875-9772-6cb42b00247c",
      "metadata": {
        "id": "f699270b-fbb5-4875-9772-6cb42b00247c"
      },
      "source": [
        "2.\tWrite Python Program to Exchange the Values of Two Numbers Without Using a Temporary Variable"
      ]
    },
    {
      "cell_type": "code",
      "execution_count": null,
      "id": "fb29a848-cc4b-4507-82df-051987f77fc5",
      "metadata": {
        "id": "fb29a848-cc4b-4507-82df-051987f77fc5",
        "outputId": "23187f52-3c3e-46d1-b71c-ee50eee6c617"
      },
      "outputs": [
        {
          "name": "stdout",
          "output_type": "stream",
          "text": [
            "Before Swapping: num1 = 10 and num2 = 15\n",
            "After Swapping: num1 = 15 and num2 = 10\n"
          ]
        }
      ],
      "source": [
        "num1 = 10\n",
        "num2 = 15\n",
        "print(f\"Before Swapping: num1 = {num1} and num2 = {num2}\")\n",
        "\n",
        "num1, num2 = num2, num1\n",
        "print(f\"After Swapping: num1 = {num1} and num2 = {num2}\")"
      ]
    },
    {
      "cell_type": "raw",
      "id": "bd7c8cde-34e8-4cbd-8657-658bf6f445c6",
      "metadata": {
        "id": "bd7c8cde-34e8-4cbd-8657-658bf6f445c6"
      },
      "source": [
        "3.\tWrite Python Program to Convert Decimal to Binary, Octal and Hexadecimal and vice versa without using built in functions."
      ]
    },
    {
      "cell_type": "code",
      "execution_count": null,
      "id": "5d4f7c44-69a1-4432-85f3-8941d4595a21",
      "metadata": {
        "id": "5d4f7c44-69a1-4432-85f3-8941d4595a21",
        "outputId": "6ca8956d-f038-46f9-9496-3b01056e8dc6"
      },
      "outputs": [
        {
          "name": "stdout",
          "output_type": "stream",
          "text": [
            "\n",
            "Choose conversion:\n",
            "1. Decimal to Binary, Octal, Hexadecimal\n",
            "2. Binary/Octal/Hexadecimal to Decimal\n",
            "3. Exit\n"
          ]
        },
        {
          "name": "stdin",
          "output_type": "stream",
          "text": [
            "Enter choice (1, 2, or 3):  1\n",
            "Enter a decimal number:  12\n"
          ]
        },
        {
          "name": "stdout",
          "output_type": "stream",
          "text": [
            "Binary: 1100\n",
            "Octal: 14\n",
            "Hexadecimal: 12\n",
            "\n",
            "Choose conversion:\n",
            "1. Decimal to Binary, Octal, Hexadecimal\n",
            "2. Binary/Octal/Hexadecimal to Decimal\n",
            "3. Exit\n"
          ]
        },
        {
          "name": "stdin",
          "output_type": "stream",
          "text": [
            "Enter choice (1, 2, or 3):  2\n"
          ]
        },
        {
          "name": "stdout",
          "output_type": "stream",
          "text": [
            "\n",
            "Choose base to convert to decimal:\n",
            "1. Binary\n",
            "2. Octal\n",
            "3. Hexadecimal\n"
          ]
        },
        {
          "name": "stdin",
          "output_type": "stream",
          "text": [
            "Enter choice (1, 2, or 3):  1\n",
            "Enter a binary number:  1010\n"
          ]
        },
        {
          "name": "stdout",
          "output_type": "stream",
          "text": [
            "Decimal: 10\n",
            "\n",
            "Choose conversion:\n",
            "1. Decimal to Binary, Octal, Hexadecimal\n",
            "2. Binary/Octal/Hexadecimal to Decimal\n",
            "3. Exit\n"
          ]
        },
        {
          "name": "stdin",
          "output_type": "stream",
          "text": [
            "Enter choice (1, 2, or 3):  3\n"
          ]
        },
        {
          "name": "stdout",
          "output_type": "stream",
          "text": [
            "Exiting program. Goodbye!\n"
          ]
        }
      ],
      "source": [
        "def decimal_to_base(n, base):\n",
        "    result = \"\"\n",
        "    while n > 0:\n",
        "        remainder = n % base\n",
        "        result = str(remainder) + result\n",
        "        n //= base\n",
        "    return result if result else \"0\"\n",
        "\n",
        "def base_to_decimal(number_str, base):\n",
        "    decimal_value = 0\n",
        "    for digit in number_str:\n",
        "        decimal_value = decimal_value * base + int(digit)\n",
        "    return decimal_value\n",
        "\n",
        "while True:\n",
        "    print(\"\\nChoose conversion:\")\n",
        "    print(\"1. Decimal to Binary, Octal, Hexadecimal\")\n",
        "    print(\"2. Binary/Octal/Hexadecimal to Decimal\")\n",
        "    print(\"3. Exit\")\n",
        "\n",
        "    choice = input(\"Enter choice (1, 2, or 3): \")\n",
        "\n",
        "    if choice == \"1\":\n",
        "        decimal_number = int(input(\"Enter a decimal number: \"))\n",
        "        print(\"Binary:\", decimal_to_base(decimal_number, 2))\n",
        "        print(\"Octal:\", decimal_to_base(decimal_number, 8))\n",
        "        print(\"Hexadecimal:\", decimal_to_base(decimal_number, 16))\n",
        "\n",
        "    elif choice == \"2\":\n",
        "        print(\"\\nChoose base to convert to decimal:\")\n",
        "        print(\"1. Binary\")\n",
        "        print(\"2. Octal\")\n",
        "        print(\"3. Hexadecimal\")\n",
        "\n",
        "        base_choice = input(\"Enter choice (1, 2, or 3): \")\n",
        "\n",
        "        if base_choice == \"1\":\n",
        "            num = input(\"Enter a binary number: \")\n",
        "            print(\"Decimal:\", base_to_decimal(num, 2))\n",
        "        elif base_choice == \"2\":\n",
        "            num = input(\"Enter an octal number: \")\n",
        "            print(\"Decimal:\", base_to_decimal(num, 8))\n",
        "        elif base_choice == \"3\":\n",
        "            num = input(\"Enter a hexadecimal number: \")\n",
        "            print(\"Decimal:\", int(num, 16))  # Direct conversion for hexadecimal\n",
        "        else:\n",
        "            print(\"Invalid choice! Please enter 1, 2, or 3.\")\n",
        "\n",
        "    elif choice == \"3\":\n",
        "        print(\"Exiting program. Goodbye!\")\n",
        "        break  # Exit the loop\n",
        "\n",
        "    else:\n",
        "        print(\"Invalid choice! Please enter 1, 2, or 3.\")\n"
      ]
    },
    {
      "cell_type": "raw",
      "id": "2b3c45c2-7090-4128-b9ec-b57eb7e62d56",
      "metadata": {
        "id": "2b3c45c2-7090-4128-b9ec-b57eb7e62d56"
      },
      "source": [
        "4.\tWrite Python Program to Read a Number n and Compute n+nn+nnn"
      ]
    },
    {
      "cell_type": "code",
      "execution_count": null,
      "id": "cf99522f-5284-4d15-8ed4-c78750fd4a35",
      "metadata": {
        "id": "cf99522f-5284-4d15-8ed4-c78750fd4a35",
        "outputId": "f29f056f-c6d8-43ee-f008-14c6a526963d"
      },
      "outputs": [
        {
          "name": "stdin",
          "output_type": "stream",
          "text": [
            "Enter a number:  15\n"
          ]
        },
        {
          "name": "stdout",
          "output_type": "stream",
          "text": [
            "Result is: 90\n"
          ]
        }
      ],
      "source": [
        "n = int(input(\"Enter a number: \"))\n",
        "nn = n + n\n",
        "nnn = n + nn\n",
        "\n",
        "print(\"Result is:\", n + nn + nnn )"
      ]
    },
    {
      "cell_type": "raw",
      "id": "e3b35549-b7f6-4f22-9a94-3c8d10875d4b",
      "metadata": {
        "id": "e3b35549-b7f6-4f22-9a94-3c8d10875d4b"
      },
      "source": [
        "5.\tWrite Python Program to Reverse a Given Number"
      ]
    },
    {
      "cell_type": "code",
      "execution_count": null,
      "id": "c20185fe-47f2-4f1d-8e25-43a05392a764",
      "metadata": {
        "id": "c20185fe-47f2-4f1d-8e25-43a05392a764",
        "outputId": "3e3f3a5a-953a-4f4d-b9db-d1c85f6aa0d5"
      },
      "outputs": [
        {
          "name": "stdin",
          "output_type": "stream",
          "text": [
            "Enter a number:  12345\n"
          ]
        },
        {
          "name": "stdout",
          "output_type": "stream",
          "text": [
            "Reversed Number: 54321 \n"
          ]
        }
      ],
      "source": [
        "num = input(\"Enter a number: \")\n",
        "rev = num[::-1]\n",
        "\n",
        "print(f\"Reversed Number: {rev} \")"
      ]
    },
    {
      "cell_type": "raw",
      "id": "e38454f9-2a6b-42ab-aa73-939c2aa13a55",
      "metadata": {
        "id": "e38454f9-2a6b-42ab-aa73-939c2aa13a55"
      },
      "source": [
        "6.\tWrite Python Program to Check Whether a Number is Positive or Negative"
      ]
    },
    {
      "cell_type": "code",
      "execution_count": null,
      "id": "922290b7-83d8-48bb-96c5-0839b3958482",
      "metadata": {
        "id": "922290b7-83d8-48bb-96c5-0839b3958482",
        "outputId": "a554083d-4294-49b7-8297-1fb05870bf7e"
      },
      "outputs": [
        {
          "name": "stdin",
          "output_type": "stream",
          "text": [
            "Enter a number:  -22\n"
          ]
        },
        {
          "name": "stdout",
          "output_type": "stream",
          "text": [
            "The Number -22 is Negative.\n"
          ]
        }
      ],
      "source": [
        "num = int(input(\"Enter a number: \"))\n",
        "if num >= 0:\n",
        "    print(f\"The Number {num} is Positive.\")\n",
        "else:\n",
        "    print(f\"The Number {num} is Negative.\")"
      ]
    },
    {
      "cell_type": "raw",
      "id": "f2cbbb91-5a0f-4a64-89c7-75ed168ce2a7",
      "metadata": {
        "id": "f2cbbb91-5a0f-4a64-89c7-75ed168ce2a7"
      },
      "source": [
        "7.\tWrite Python Program to Take in the Marks of 5 Subjects and Display the Grade"
      ]
    },
    {
      "cell_type": "code",
      "execution_count": null,
      "id": "c3d8d9de-b5a0-4f20-b15b-b5e5cdb5dbcb",
      "metadata": {
        "id": "c3d8d9de-b5a0-4f20-b15b-b5e5cdb5dbcb",
        "outputId": "0075dfa0-2644-4460-b195-d81e3ee58c3c"
      },
      "outputs": [
        {
          "name": "stdin",
          "output_type": "stream",
          "text": [
            "Enter marks for subject 1:  94\n",
            "Enter marks for subject 2:  90\n",
            "Enter marks for subject 3:  85\n",
            "Enter marks for subject 4:  85\n",
            "Enter marks for subject 5:  72\n"
          ]
        },
        {
          "name": "stdout",
          "output_type": "stream",
          "text": [
            "Total Marks: 426.0 \n",
            "Average Percentage: 85.2 % \n",
            "Your Grade is: A \n"
          ]
        }
      ],
      "source": [
        "marks = []\n",
        "\n",
        "for i in range(1, 6):\n",
        "    num = float(input(f\"Enter marks for subject {i}: \"))\n",
        "    marks.append(num)\n",
        "\n",
        "total = sum(marks)\n",
        "avg = total / len(marks)\n",
        "\n",
        "if avg >= 90:\n",
        "    grade = \"A+\"\n",
        "\n",
        "elif avg >= 80:\n",
        "    grade = \"A\"\n",
        "\n",
        "elif avg >= 70:\n",
        "    grade = \"B\"\n",
        "\n",
        "elif avg >= 60:\n",
        "    grade = \"C\"\n",
        "\n",
        "elif avg >= 50:\n",
        "    grade = \"D\"\n",
        "\n",
        "else:\n",
        "    grade = \"F (Fail)\"\n",
        "\n",
        "print(f\"Total Marks: {total} \")\n",
        "print(f\"Average Percentage: {avg} % \")\n",
        "print(f\"Your Grade is: {grade} \")\n"
      ]
    },
    {
      "cell_type": "raw",
      "id": "152d36de-839a-4e9c-9b1e-a7a686dc1bec",
      "metadata": {
        "id": "152d36de-839a-4e9c-9b1e-a7a686dc1bec"
      },
      "source": [
        "8.\tWrite Python Program to Print all Numbers in a Range Divisible by a Given Number"
      ]
    },
    {
      "cell_type": "code",
      "execution_count": null,
      "id": "13c92412-615f-4c20-9fc5-fa38b29ab3c3",
      "metadata": {
        "id": "13c92412-615f-4c20-9fc5-fa38b29ab3c3",
        "outputId": "a2028448-0ac9-4a0f-f72c-7327e053f065"
      },
      "outputs": [
        {
          "name": "stdin",
          "output_type": "stream",
          "text": [
            "Enter the starting range number 1\n",
            "Enter the ending range number 100\n",
            "Enter the divisor number 5\n"
          ]
        },
        {
          "name": "stdout",
          "output_type": "stream",
          "text": [
            "5\n",
            "10\n",
            "15\n",
            "20\n",
            "25\n",
            "30\n",
            "35\n",
            "40\n",
            "45\n",
            "50\n",
            "55\n",
            "60\n",
            "65\n",
            "70\n",
            "75\n",
            "80\n",
            "85\n",
            "90\n",
            "95\n",
            "100\n"
          ]
        }
      ],
      "source": [
        "# for i in range(1, 50):\n",
        "#     if i % 2 == 0:\n",
        "#         print(i)\n",
        "\n",
        "######### OR ###################\n",
        "\n",
        "start = int(input(\"Enter the starting range number\"))\n",
        "end = int(input(\"Enter the ending range number\"))\n",
        "divisor = int(input(\"Enter the divisor number\"))\n",
        "\n",
        "for i in range(start, end+1):\n",
        "    if i % divisor == 0:\n",
        "        print(i)"
      ]
    },
    {
      "cell_type": "raw",
      "id": "cff0c5e0-fe8d-4777-8424-836204aa6952",
      "metadata": {
        "id": "cff0c5e0-fe8d-4777-8424-836204aa6952"
      },
      "source": [
        "9.\tWrite Python Program to Read Two Numbers and Print Their Quotient and Remainder"
      ]
    },
    {
      "cell_type": "code",
      "execution_count": null,
      "id": "ade84937-e197-4ae7-aeee-17066c4a9e8a",
      "metadata": {
        "id": "ade84937-e197-4ae7-aeee-17066c4a9e8a",
        "outputId": "2e11844e-4823-49f5-e5db-b6e5756908a5"
      },
      "outputs": [
        {
          "name": "stdin",
          "output_type": "stream",
          "text": [
            "Enter first number:  3\n",
            "Enter second number:  2\n"
          ]
        },
        {
          "name": "stdout",
          "output_type": "stream",
          "text": [
            "Quotient: 1\n",
            "Remainder: 1\n"
          ]
        }
      ],
      "source": [
        "num1 = int(input(\"Enter first number: \"))\n",
        "num2 = int(input(\"Enter second number: \"))\n",
        "\n",
        "quotient = num1 // num2\n",
        "remainder = num1 % num2\n",
        "\n",
        "\n",
        "print(f\"Quotient: {quotient}\")\n",
        "print(f\"Remainder: {remainder}\")\n"
      ]
    },
    {
      "cell_type": "raw",
      "id": "d593423c-4632-46be-ab7f-bd8c8a0d6a47",
      "metadata": {
        "id": "d593423c-4632-46be-ab7f-bd8c8a0d6a47"
      },
      "source": [
        "10.\tWrite Python Program to Accept Three Digits and Print all Possible Combinations from the Digits"
      ]
    },
    {
      "cell_type": "code",
      "execution_count": null,
      "id": "c8f0630e-8f76-4347-81b8-7216ce49b713",
      "metadata": {
        "id": "c8f0630e-8f76-4347-81b8-7216ce49b713",
        "outputId": "2182aed0-b918-4b03-c4e1-5fa03db32fb9"
      },
      "outputs": [
        {
          "name": "stdin",
          "output_type": "stream",
          "text": [
            "Enter first digit:  3\n",
            "Enter second digit:  4\n",
            "Enter third digit:  5\n"
          ]
        },
        {
          "name": "stdout",
          "output_type": "stream",
          "text": [
            "All possible combinations:\n",
            "345\n",
            "354\n",
            "435\n",
            "453\n",
            "534\n",
            "543\n"
          ]
        }
      ],
      "source": [
        "# Get input from the user\n",
        "num1 = input(\"Enter first digit: \")\n",
        "num2 = input(\"Enter second digit: \")\n",
        "num3 = input(\"Enter third digit: \")\n",
        "\n",
        "# Generate and print all possible combinations\n",
        "print(\"All possible combinations:\")\n",
        "print(num1 + num2 + num3)\n",
        "print(num1 + num3 + num2)\n",
        "print(num2 + num1 + num3)\n",
        "print(num2 + num3 + num1)\n",
        "print(num3 + num1 + num2)\n",
        "print(num3 + num2 + num1)\n"
      ]
    },
    {
      "cell_type": "raw",
      "id": "888ace0d-ba6d-4363-8eb2-43049ac6d9d7",
      "metadata": {
        "id": "888ace0d-ba6d-4363-8eb2-43049ac6d9d7"
      },
      "source": [
        "11.\tWrite Python Program to Print Odd Numbers Within a Given Range"
      ]
    },
    {
      "cell_type": "code",
      "execution_count": null,
      "id": "a9284556-33c5-4ae2-ae9e-f38e49cd9f6a",
      "metadata": {
        "id": "a9284556-33c5-4ae2-ae9e-f38e49cd9f6a",
        "outputId": "dbb53a2d-8715-46cc-fced-682d25c734b6"
      },
      "outputs": [
        {
          "name": "stdin",
          "output_type": "stream",
          "text": [
            "Enter the starting range number 1\n",
            "Enter the ending range number 50\n"
          ]
        },
        {
          "name": "stdout",
          "output_type": "stream",
          "text": [
            "1\n",
            "3\n",
            "5\n",
            "7\n",
            "9\n",
            "11\n",
            "13\n",
            "15\n",
            "17\n",
            "19\n",
            "21\n",
            "23\n",
            "25\n",
            "27\n",
            "29\n",
            "31\n",
            "33\n",
            "35\n",
            "37\n",
            "39\n",
            "41\n",
            "43\n",
            "45\n",
            "47\n",
            "49\n"
          ]
        }
      ],
      "source": [
        "start = int(input(\"Enter the starting range number\"))\n",
        "end = int(input(\"Enter the ending range number\"))\n",
        "\n",
        "for i in range(start, end+1):\n",
        "    if i % 2 != 0:\n",
        "        print(i)\n"
      ]
    },
    {
      "cell_type": "raw",
      "id": "45345e82-4afe-4396-830e-be549b2cb67f",
      "metadata": {
        "id": "45345e82-4afe-4396-830e-be549b2cb67f"
      },
      "source": [
        "12. Write Python Program to Find the Sum of Digits in a Number"
      ]
    },
    {
      "cell_type": "code",
      "execution_count": null,
      "id": "e452b3b6-88e4-4008-a0aa-acfb55d05f58",
      "metadata": {
        "id": "e452b3b6-88e4-4008-a0aa-acfb55d05f58",
        "outputId": "f299dcc6-e94a-4613-c45a-0cc610f8d3ec"
      },
      "outputs": [
        {
          "name": "stdin",
          "output_type": "stream",
          "text": [
            "Enter a number:  223\n"
          ]
        },
        {
          "name": "stdout",
          "output_type": "stream",
          "text": [
            "Sum of digits: 7 \n"
          ]
        }
      ],
      "source": [
        "num = int(input(\"Enter a number: \"))\n",
        "sum_of_digits = 0\n",
        "\n",
        "while num > 0:\n",
        "    sum_of_digits += num % 10\n",
        "    num //= 10\n",
        "\n",
        "print(f\"Sum of digits: {sum_of_digits} \")\n"
      ]
    },
    {
      "cell_type": "raw",
      "id": "d08d1fcf-d491-4228-8f83-bd73dae559e2",
      "metadata": {
        "id": "d08d1fcf-d491-4228-8f83-bd73dae559e2"
      },
      "source": [
        "13.\tWrite Python Program to Find the Smallest Divisor of an Integer"
      ]
    },
    {
      "cell_type": "code",
      "execution_count": null,
      "id": "bf8bbc14-3b42-4439-ad93-aa3535903835",
      "metadata": {
        "id": "bf8bbc14-3b42-4439-ad93-aa3535903835",
        "outputId": "6ae3a70a-a97d-41ac-cd27-a2175a2705db"
      },
      "outputs": [
        {
          "name": "stdin",
          "output_type": "stream",
          "text": [
            "Enter an Integer:  9\n"
          ]
        },
        {
          "name": "stdout",
          "output_type": "stream",
          "text": [
            "Smallest Divisor: 3 \n"
          ]
        }
      ],
      "source": [
        "num = int(input(\"Enter an Integer: \"))\n",
        "\n",
        "if num <= 1:\n",
        "    print(\"Please enter an integer number greater than 1. \")\n",
        "else:\n",
        "\n",
        "    for i in range(2, num+1):\n",
        "        if num % i == 0:\n",
        "            print(f\"Smallest Divisor: {i} \")\n",
        "            break"
      ]
    },
    {
      "cell_type": "raw",
      "id": "09f652e6-fdf5-4e28-8879-4d9785402ea9",
      "metadata": {
        "id": "09f652e6-fdf5-4e28-8879-4d9785402ea9"
      },
      "source": [
        "14.\tWrite Python Program to Count the Number of Digits in a Number"
      ]
    },
    {
      "cell_type": "code",
      "execution_count": null,
      "id": "2bb0fbfb-d566-47f8-b564-ef28ad91e598",
      "metadata": {
        "id": "2bb0fbfb-d566-47f8-b564-ef28ad91e598",
        "outputId": "67b737b3-b563-4887-ae2c-66c8d1a08b2b"
      },
      "outputs": [
        {
          "name": "stdin",
          "output_type": "stream",
          "text": [
            "Enter a number:  50\n"
          ]
        },
        {
          "name": "stdout",
          "output_type": "stream",
          "text": [
            "Sum of digits: 2 \n"
          ]
        }
      ],
      "source": [
        "num = int(input(\"Enter a number: \"))\n",
        "count = 0\n",
        "\n",
        "while num > 0:\n",
        "    count += 1\n",
        "    num //= 10\n",
        "\n",
        "print(f\"Sum of digits: {count} \")\n"
      ]
    },
    {
      "cell_type": "raw",
      "id": "35beb411-bd18-4209-8137-ab268b2fd48f",
      "metadata": {
        "id": "35beb411-bd18-4209-8137-ab268b2fd48f"
      },
      "source": [
        "15.\tWrite Python Program to Check if a Number is a Palindrome"
      ]
    },
    {
      "cell_type": "code",
      "execution_count": null,
      "id": "1d352406-670f-4538-84be-604d00725ada",
      "metadata": {
        "id": "1d352406-670f-4538-84be-604d00725ada",
        "outputId": "85539fa6-49ed-4469-f044-2fb9589f5eea"
      },
      "outputs": [
        {
          "name": "stdin",
          "output_type": "stream",
          "text": [
            "Enter the Numbers:  232\n"
          ]
        },
        {
          "name": "stdout",
          "output_type": "stream",
          "text": [
            "232 is a Palindrome. \n"
          ]
        }
      ],
      "source": [
        "num = input(\"Enter the Numbers: \")\n",
        "if num == num[::-1]:\n",
        "    print(f\"{num} is a Palindrome. \")\n",
        "else:\n",
        "    print(f\"{num} is not a Palindrome. \")"
      ]
    },
    {
      "cell_type": "raw",
      "id": "9d1b9c8a-e51f-464b-af43-95ce4e39ddd8",
      "metadata": {
        "id": "9d1b9c8a-e51f-464b-af43-95ce4e39ddd8"
      },
      "source": [
        "16.\tWrite Python Program to Print all Integers that Aren't Divisible by Either 2 or 3 and Lie between 1 and 50."
      ]
    },
    {
      "cell_type": "code",
      "execution_count": null,
      "id": "0a168ecd-bbb4-492d-b082-0db845394bcd",
      "metadata": {
        "id": "0a168ecd-bbb4-492d-b082-0db845394bcd",
        "outputId": "cf070cfe-f4db-420e-9455-9d465f054b43"
      },
      "outputs": [
        {
          "name": "stdout",
          "output_type": "stream",
          "text": [
            "1\n",
            "5\n",
            "7\n",
            "11\n",
            "13\n",
            "17\n",
            "19\n",
            "23\n",
            "25\n",
            "29\n",
            "31\n",
            "35\n",
            "37\n",
            "41\n",
            "43\n",
            "47\n",
            "49\n"
          ]
        }
      ],
      "source": [
        "for i in range(50):\n",
        "    if i % 2 and i % 3 != 0:\n",
        "        print(i)"
      ]
    },
    {
      "cell_type": "raw",
      "id": "901fd618-c57f-4baf-8f33-17a381538be8",
      "metadata": {
        "id": "901fd618-c57f-4baf-8f33-17a381538be8"
      },
      "source": [
        "17.\tWrite Python Program to Read a Number n And Print the Series\n",
        "\"1+2+…..+n= \"\n"
      ]
    },
    {
      "cell_type": "code",
      "execution_count": null,
      "id": "57683a8b-0cc2-4e95-ae5f-92eb519c8188",
      "metadata": {
        "id": "57683a8b-0cc2-4e95-ae5f-92eb519c8188",
        "outputId": "52e626ab-3c8a-4918-cd8a-656dececae1c"
      },
      "outputs": [
        {
          "name": "stdin",
          "output_type": "stream",
          "text": [
            "Enter a number:  8\n"
          ]
        },
        {
          "name": "stdout",
          "output_type": "stream",
          "text": [
            "1+2+3+4+5+6+7+8+"
          ]
        }
      ],
      "source": [
        "num = int(input(\"Enter a number: \"))\n",
        "for i in range(1, num+1):\n",
        "    print(i, end='+' )"
      ]
    },
    {
      "cell_type": "raw",
      "id": "d28dbded-a23f-4603-b7ca-eeb32121b0c0",
      "metadata": {
        "id": "d28dbded-a23f-4603-b7ca-eeb32121b0c0"
      },
      "source": [
        "18.\tWrite Python Program to Read a Number n and Print the Natural Numbers Summation Pattern"
      ]
    },
    {
      "cell_type": "code",
      "execution_count": null,
      "id": "7f96709f-1bd4-473c-b34b-db60a16f1ff4",
      "metadata": {
        "id": "7f96709f-1bd4-473c-b34b-db60a16f1ff4",
        "outputId": "099a4276-67a0-4bc4-a10f-215d4b43e25e"
      },
      "outputs": [
        {
          "name": "stdin",
          "output_type": "stream",
          "text": [
            "Enter a number:  6\n"
          ]
        },
        {
          "name": "stdout",
          "output_type": "stream",
          "text": [
            "1 + 1 = 1\n",
            "1 + 2 = 3\n",
            "1 + 3 = 6\n",
            "1 + 4 = 10\n",
            "1 + 5 = 15\n",
            "1 + 6 = 21\n"
          ]
        }
      ],
      "source": [
        "num = int(input(\"Enter a number: \"))\n",
        "sum = 0\n",
        "for i in range(1, num+1):\n",
        "    sum += i\n",
        "    print(f\"{1} + {i} = {sum}\")"
      ]
    },
    {
      "cell_type": "raw",
      "id": "d8808b4a-d0f3-4dfc-a277-e0107741df69",
      "metadata": {
        "id": "d8808b4a-d0f3-4dfc-a277-e0107741df69"
      },
      "source": [
        "19.\tWrite Python Program to Print an Identity Matrix"
      ]
    },
    {
      "cell_type": "code",
      "execution_count": null,
      "id": "33ff5388-09d7-4728-93a2-2c96875dcc25",
      "metadata": {
        "id": "33ff5388-09d7-4728-93a2-2c96875dcc25",
        "outputId": "3a656ccc-8bef-4f08-a490-a30fb9618284"
      },
      "outputs": [
        {
          "name": "stdin",
          "output_type": "stream",
          "text": [
            "Enter the size of matrix:  3\n"
          ]
        },
        {
          "name": "stdout",
          "output_type": "stream",
          "text": [
            "100\n",
            "010\n",
            "001\n"
          ]
        }
      ],
      "source": [
        "n = int(input(\"Enter the size of matrix: \"))\n",
        "for i in range(n):\n",
        "    row = \"\"\n",
        "    for j in range(n):\n",
        "        if i == j:\n",
        "            row += \"1\"\n",
        "        else:\n",
        "            row += \"0\"\n",
        "    print(row.strip())"
      ]
    },
    {
      "cell_type": "raw",
      "id": "199a5e11-0a8d-457d-a241-b911d2019d5f",
      "metadata": {
        "id": "199a5e11-0a8d-457d-a241-b911d2019d5f"
      },
      "source": [
        "20.\tWrite Python Program to Print an Inverted Star Pattern"
      ]
    },
    {
      "cell_type": "code",
      "execution_count": null,
      "id": "eb4997f3-c01d-4420-9509-0491eb70ac2e",
      "metadata": {
        "id": "eb4997f3-c01d-4420-9509-0491eb70ac2e",
        "outputId": "b56b2926-536e-4810-9dc6-7b39fdfe8875"
      },
      "outputs": [
        {
          "name": "stdin",
          "output_type": "stream",
          "text": [
            "Enter the size of pattern:  5\n"
          ]
        },
        {
          "name": "stdout",
          "output_type": "stream",
          "text": [
            "*****\n",
            "****\n",
            "***\n",
            "**\n",
            "*\n"
          ]
        }
      ],
      "source": [
        "n = int(input(\"Enter the size of pattern: \"))\n",
        "for i in range(n, 0, -1):\n",
        "    print(\"*\" * i)"
      ]
    },
    {
      "cell_type": "raw",
      "id": "e59e0b7d-529a-420f-b432-1adfbb3fa236",
      "metadata": {
        "id": "e59e0b7d-529a-420f-b432-1adfbb3fa236"
      },
      "source": [
        "21.\tWrite Python Program to Read Print Prime Numbers in a Range using Sieve of Eratosthenes"
      ]
    },
    {
      "cell_type": "code",
      "execution_count": null,
      "id": "bfa51342-2007-48cc-9897-297f2d37bfad",
      "metadata": {
        "id": "bfa51342-2007-48cc-9897-297f2d37bfad"
      },
      "outputs": [],
      "source": [
        "n = int(input(\"Enter the range: \"))\n",
        "\n",
        "for i in range(2, n+1):\n",
        "    for j in range(2, i):\n",
        "        if i % j == 0:\n",
        "            break\n",
        "    else:\n",
        "        print(i, end=\" \")\n"
      ]
    },
    {
      "cell_type": "raw",
      "id": "61a74bae-00df-46dc-ad60-b8e838ca129b",
      "metadata": {
        "id": "61a74bae-00df-46dc-ad60-b8e838ca129b"
      },
      "source": [
        "# **Python Programming Examples on Mathematical Functions**"
      ]
    },
    {
      "cell_type": "raw",
      "id": "97f56f0c-2280-427b-b74b-de7c6249ee4d",
      "metadata": {
        "id": "97f56f0c-2280-427b-b74b-de7c6249ee4d"
      },
      "source": [
        "1.\tWrite Python Program to Check if a Date is Valid and Print the Incremented\n",
        "Date if it is\n"
      ]
    },
    {
      "cell_type": "code",
      "execution_count": null,
      "id": "8cd4f79b-d958-435e-b560-9d483093141f",
      "metadata": {
        "id": "8cd4f79b-d958-435e-b560-9d483093141f"
      },
      "outputs": [],
      "source": []
    },
    {
      "cell_type": "raw",
      "id": "b2d6adff-c302-4356-8339-de1803e6228b",
      "metadata": {
        "id": "b2d6adff-c302-4356-8339-de1803e6228b"
      },
      "source": [
        "2.\tWrite Python Program to Compute Simple Interest Given all the Required Values"
      ]
    },
    {
      "cell_type": "code",
      "execution_count": null,
      "id": "75228693-763e-4f07-9f08-2397a6df1eb0",
      "metadata": {
        "id": "75228693-763e-4f07-9f08-2397a6df1eb0"
      },
      "outputs": [],
      "source": []
    },
    {
      "cell_type": "raw",
      "id": "70e14684-6e0b-439d-9829-359d1b3b04a6",
      "metadata": {
        "id": "70e14684-6e0b-439d-9829-359d1b3b04a6"
      },
      "source": [
        "3.\tWrite Python Program to Check Whether a Given Year is a Leap Year"
      ]
    },
    {
      "cell_type": "code",
      "execution_count": null,
      "id": "899978c7-e41a-4afe-a88a-8b20cd911b91",
      "metadata": {
        "id": "899978c7-e41a-4afe-a88a-8b20cd911b91"
      },
      "outputs": [],
      "source": []
    },
    {
      "cell_type": "raw",
      "id": "c7eeda91-39f7-4922-83e9-48c183b33473",
      "metadata": {
        "id": "c7eeda91-39f7-4922-83e9-48c183b33473"
      },
      "source": [
        "4.\tWrite Python Program to Read Height in Centimeters and then Convert the Height to Feet and Inches"
      ]
    },
    {
      "cell_type": "code",
      "execution_count": null,
      "id": "2cd6634e-c877-465c-aa22-ea61046b1c55",
      "metadata": {
        "id": "2cd6634e-c877-465c-aa22-ea61046b1c55"
      },
      "outputs": [],
      "source": []
    },
    {
      "cell_type": "raw",
      "id": "e18445d3-88a5-4cf4-b043-50f2fd2bd3b4",
      "metadata": {
        "id": "e18445d3-88a5-4cf4-b043-50f2fd2bd3b4"
      },
      "source": [
        "5.\tWrite Python Program to Take the Temperature in Celcius and Covert it to Farenheit"
      ]
    },
    {
      "cell_type": "code",
      "execution_count": null,
      "id": "ea927704-efad-4de6-988b-a4f53f9fe562",
      "metadata": {
        "id": "ea927704-efad-4de6-988b-a4f53f9fe562"
      },
      "outputs": [],
      "source": []
    },
    {
      "cell_type": "raw",
      "id": "31fab586-0b25-4572-8189-4767679d63bb",
      "metadata": {
        "id": "31fab586-0b25-4572-8189-4767679d63bb"
      },
      "source": [
        "6.\tWrite Python Program to Compute Prime Factors of an Integer"
      ]
    },
    {
      "cell_type": "code",
      "execution_count": null,
      "id": "26406d95-0753-4183-8016-003827817d16",
      "metadata": {
        "id": "26406d95-0753-4183-8016-003827817d16"
      },
      "outputs": [],
      "source": []
    },
    {
      "cell_type": "raw",
      "id": "14c14a9c-c74a-4c60-bcf9-044d878aa363",
      "metadata": {
        "id": "14c14a9c-c74a-4c60-bcf9-044d878aa363"
      },
      "source": [
        "7.\tWrite Python Program to Generate all the Divisors of an Integer"
      ]
    },
    {
      "cell_type": "code",
      "execution_count": null,
      "id": "0ce970d7-c151-4d7c-9e98-0f9c5f60e7ae",
      "metadata": {
        "id": "0ce970d7-c151-4d7c-9e98-0f9c5f60e7ae"
      },
      "outputs": [],
      "source": []
    },
    {
      "cell_type": "raw",
      "id": "e5750ffc-efd6-4eac-a041-b4180ebe1df2",
      "metadata": {
        "id": "e5750ffc-efd6-4eac-a041-b4180ebe1df2"
      },
      "source": [
        "8.\tWrite Python Program to Print Table of a Given Number"
      ]
    },
    {
      "cell_type": "code",
      "execution_count": null,
      "id": "6b119e6b-93ab-41bf-8d68-466c6ada2d44",
      "metadata": {
        "id": "6b119e6b-93ab-41bf-8d68-466c6ada2d44"
      },
      "outputs": [],
      "source": []
    },
    {
      "cell_type": "raw",
      "id": "78a1aa16-43a7-4f32-9ec3-06330b8cb64b",
      "metadata": {
        "id": "78a1aa16-43a7-4f32-9ec3-06330b8cb64b"
      },
      "source": [
        "9.\tWrite Python Program to Print Sum of Negative Numbers, Positive Even Numbers and Positive Odd numbers in a List"
      ]
    },
    {
      "cell_type": "code",
      "execution_count": null,
      "id": "bd036f3e-c7d1-4b0b-9f49-e7ab655ee286",
      "metadata": {
        "id": "bd036f3e-c7d1-4b0b-9f49-e7ab655ee286"
      },
      "outputs": [],
      "source": []
    },
    {
      "cell_type": "raw",
      "id": "5a432c5e-b46e-4259-9c7e-b58ed222c24a",
      "metadata": {
        "id": "5a432c5e-b46e-4259-9c7e-b58ed222c24a"
      },
      "source": [
        "10.\tWrite Python Program to Print Largest Even and Largest Odd Number in a\n",
        "List\n"
      ]
    },
    {
      "cell_type": "code",
      "execution_count": null,
      "id": "e0001f2d-4450-4047-b798-b48d48fb8a38",
      "metadata": {
        "id": "e0001f2d-4450-4047-b798-b48d48fb8a38"
      },
      "outputs": [],
      "source": []
    },
    {
      "cell_type": "raw",
      "id": "b17a4140-cd73-4aaf-802f-de8d3873dfee",
      "metadata": {
        "id": "b17a4140-cd73-4aaf-802f-de8d3873dfee"
      },
      "source": [
        "11.\tWrite Python Program to Form an Integer that has the Number of Digits at Ten's Place and the Least Significant Digit of the Entered Integer at One's Place"
      ]
    },
    {
      "cell_type": "code",
      "execution_count": null,
      "id": "3fa06c9f-4897-45b8-8996-d8c119f98e9d",
      "metadata": {
        "id": "3fa06c9f-4897-45b8-8996-d8c119f98e9d"
      },
      "outputs": [],
      "source": []
    },
    {
      "cell_type": "raw",
      "id": "918b8fd8-3b73-4bf1-8af3-213215fd1cd3",
      "metadata": {
        "id": "918b8fd8-3b73-4bf1-8af3-213215fd1cd3"
      },
      "source": [
        "12.\tWrite Python Program to Find Those Numbers which are Divisible by 7\n",
        "and Multiple of 5 in a Given Range of Numbers"
      ]
    },
    {
      "cell_type": "code",
      "execution_count": null,
      "id": "7d495a82-e459-4042-8942-47a6302748dd",
      "metadata": {
        "id": "7d495a82-e459-4042-8942-47a6302748dd"
      },
      "outputs": [],
      "source": []
    },
    {
      "cell_type": "raw",
      "id": "72472e50-e7a7-4870-93be-4525f2c880e6",
      "metadata": {
        "id": "72472e50-e7a7-4870-93be-4525f2c880e6"
      },
      "source": [
        "13.\tWrite Python Program to Check if a Number is an Armstrong Number"
      ]
    },
    {
      "cell_type": "code",
      "execution_count": null,
      "id": "2a36fff3-70a0-4e60-b3c7-ada8af68de0e",
      "metadata": {
        "id": "2a36fff3-70a0-4e60-b3c7-ada8af68de0e"
      },
      "outputs": [],
      "source": []
    },
    {
      "cell_type": "raw",
      "id": "2a7c6af3-10c0-40c3-9fae-03b69443cb9e",
      "metadata": {
        "id": "2a7c6af3-10c0-40c3-9fae-03b69443cb9e"
      },
      "source": [
        "14.\tWrite Python Program to Print the Pascal's triangle for n number of rows given by the user"
      ]
    },
    {
      "cell_type": "code",
      "execution_count": null,
      "id": "b04e79b1-52da-4610-82c9-23f7475a9d77",
      "metadata": {
        "id": "b04e79b1-52da-4610-82c9-23f7475a9d77"
      },
      "outputs": [],
      "source": []
    },
    {
      "cell_type": "raw",
      "id": "d91b8af3-1e17-41eb-a671-70ae5fe5db42",
      "metadata": {
        "id": "d91b8af3-1e17-41eb-a671-70ae5fe5db42"
      },
      "source": [
        "15.\tWrite Python Program to Check if a Number is a Perfect Number"
      ]
    },
    {
      "cell_type": "code",
      "execution_count": null,
      "id": "df980b76-a32c-44a9-8058-6573e9560186",
      "metadata": {
        "id": "df980b76-a32c-44a9-8058-6573e9560186"
      },
      "outputs": [],
      "source": []
    },
    {
      "cell_type": "raw",
      "id": "89f2b248-a103-419a-a5c4-45a4bd896c16",
      "metadata": {
        "id": "89f2b248-a103-419a-a5c4-45a4bd896c16"
      },
      "source": [
        "16.\tWrite Python Program to Check if a Number is a Strong Number"
      ]
    },
    {
      "cell_type": "code",
      "execution_count": null,
      "id": "ca94c57b-2092-48b5-a12f-f23e8132dfb6",
      "metadata": {
        "id": "ca94c57b-2092-48b5-a12f-f23e8132dfb6"
      },
      "outputs": [],
      "source": []
    },
    {
      "cell_type": "raw",
      "id": "f1271f0b-0199-490b-aa01-7a0bac0856d5",
      "metadata": {
        "id": "f1271f0b-0199-490b-aa01-7a0bac0856d5"
      },
      "source": [
        "17.\tWrite Python Program to Find the LCM of Two Numbers"
      ]
    },
    {
      "cell_type": "code",
      "execution_count": null,
      "id": "ef6eb15c-3674-4b45-89a8-065bf6ab38f3",
      "metadata": {
        "id": "ef6eb15c-3674-4b45-89a8-065bf6ab38f3"
      },
      "outputs": [],
      "source": []
    },
    {
      "cell_type": "raw",
      "id": "de7cbc90-c7c6-4b93-ac33-a989bfc27e59",
      "metadata": {
        "id": "de7cbc90-c7c6-4b93-ac33-a989bfc27e59"
      },
      "source": [
        "18.\tWrite Python Program to Find the GCD of Two Numbers"
      ]
    },
    {
      "cell_type": "code",
      "execution_count": null,
      "id": "da7dbf5b-fe75-4d17-b58c-5ad9ea8c6918",
      "metadata": {
        "id": "da7dbf5b-fe75-4d17-b58c-5ad9ea8c6918"
      },
      "outputs": [],
      "source": []
    },
    {
      "cell_type": "raw",
      "id": "a4ae0ac0-ad2d-458b-b04a-a1304e46306c",
      "metadata": {
        "id": "a4ae0ac0-ad2d-458b-b04a-a1304e46306c"
      },
      "source": [
        "19.\tWrite Python Program to Compute a Polynomial Equation given that the Coefficients of the Polynomial are stored in a List"
      ]
    },
    {
      "cell_type": "code",
      "execution_count": null,
      "id": "271bfb07-b262-4f27-b650-4eb0dfdf544d",
      "metadata": {
        "id": "271bfb07-b262-4f27-b650-4eb0dfdf544d"
      },
      "outputs": [],
      "source": []
    },
    {
      "cell_type": "raw",
      "id": "807bddb8-e4dc-490d-8942-70c3ab1a7c00",
      "metadata": {
        "id": "807bddb8-e4dc-490d-8942-70c3ab1a7c00"
      },
      "source": [
        "20.\tWrite Python Program to Check If Two Numbers are Amicable Numbers"
      ]
    },
    {
      "cell_type": "code",
      "execution_count": null,
      "id": "ef8638f4-f019-4075-9777-74cddc005747",
      "metadata": {
        "id": "ef8638f4-f019-4075-9777-74cddc005747"
      },
      "outputs": [],
      "source": []
    },
    {
      "cell_type": "raw",
      "id": "9a4f0f3b-9bef-4ea5-ad45-ab76e9775d17",
      "metadata": {
        "id": "9a4f0f3b-9bef-4ea5-ad45-ab76e9775d17"
      },
      "source": [
        "21.\tWrite Python Program to Find the Area of a Triangle Given All Three Sides"
      ]
    },
    {
      "cell_type": "code",
      "execution_count": null,
      "id": "f40b1efc-0f44-406e-9952-33289975137b",
      "metadata": {
        "id": "f40b1efc-0f44-406e-9952-33289975137b"
      },
      "outputs": [],
      "source": []
    },
    {
      "cell_type": "raw",
      "id": "769929ec-1645-472b-b30d-14be2d4733e2",
      "metadata": {
        "id": "769929ec-1645-472b-b30d-14be2d4733e2"
      },
      "source": [
        "22.\tWrite Python Program to Find the Gravitational Force Acting Between Two Objects"
      ]
    },
    {
      "cell_type": "code",
      "execution_count": null,
      "id": "4d5271f0-1098-419d-bbf3-3f5daac21a6c",
      "metadata": {
        "id": "4d5271f0-1098-419d-bbf3-3f5daac21a6c"
      },
      "outputs": [],
      "source": []
    },
    {
      "cell_type": "raw",
      "id": "ab225d6c-2b54-40fe-a9b0-17e3c300c890",
      "metadata": {
        "id": "ab225d6c-2b54-40fe-a9b0-17e3c300c890"
      },
      "source": [
        "23.\tWrite Python Program to Check if a Number is a Prime Number"
      ]
    },
    {
      "cell_type": "code",
      "execution_count": null,
      "id": "2e9c2a04-9b1a-4b0e-ac6e-a740d93e4232",
      "metadata": {
        "id": "2e9c2a04-9b1a-4b0e-ac6e-a740d93e4232"
      },
      "outputs": [],
      "source": []
    },
    {
      "cell_type": "raw",
      "id": "2fec097e-9d60-4c1e-a7c7-0aef4e7faa94",
      "metadata": {
        "id": "2fec097e-9d60-4c1e-a7c7-0aef4e7faa94"
      },
      "source": [
        "24.\tWrite Python Program to Print all the Prime Numbers within a Given Range"
      ]
    },
    {
      "cell_type": "code",
      "execution_count": null,
      "id": "93358589-cee9-4bae-be5c-17447b178624",
      "metadata": {
        "id": "93358589-cee9-4bae-be5c-17447b178624"
      },
      "outputs": [],
      "source": []
    },
    {
      "cell_type": "raw",
      "id": "e9e19a99-eff0-45a2-8ee0-1519d530a1d1",
      "metadata": {
        "id": "e9e19a99-eff0-45a2-8ee0-1519d530a1d1"
      },
      "source": [
        "25.\tWrite Python Program to Print Numbers in a Range (1,upper) Without Using any Loops"
      ]
    },
    {
      "cell_type": "code",
      "execution_count": null,
      "id": "8a23cbc1-d2ed-42b7-ad58-fef49eeb2d53",
      "metadata": {
        "id": "8a23cbc1-d2ed-42b7-ad58-fef49eeb2d53"
      },
      "outputs": [],
      "source": []
    },
    {
      "cell_type": "raw",
      "id": "637dc01b-8fc7-4070-8769-39acc08327ca",
      "metadata": {
        "id": "637dc01b-8fc7-4070-8769-39acc08327ca"
      },
      "source": [
        "26.\tWrite Python Program to Find the Sum of Sine Series"
      ]
    },
    {
      "cell_type": "code",
      "execution_count": null,
      "id": "b5dbf068-9a83-4728-a8db-98a34eede72f",
      "metadata": {
        "id": "b5dbf068-9a83-4728-a8db-98a34eede72f"
      },
      "outputs": [],
      "source": []
    },
    {
      "cell_type": "raw",
      "id": "eea6c296-eb6c-4b48-bdad-6caae509c81c",
      "metadata": {
        "id": "eea6c296-eb6c-4b48-bdad-6caae509c81c"
      },
      "source": [
        "27.\tWrite Python Program to Find the Sum of Cosine Series"
      ]
    },
    {
      "cell_type": "code",
      "execution_count": null,
      "id": "6bb885f0-51ab-48f3-b8f6-ffa799ba4800",
      "metadata": {
        "id": "6bb885f0-51ab-48f3-b8f6-ffa799ba4800"
      },
      "outputs": [],
      "source": []
    },
    {
      "cell_type": "raw",
      "id": "b7b80b17-7e99-40e6-8b14-617fd423631d",
      "metadata": {
        "id": "b7b80b17-7e99-40e6-8b14-617fd423631d"
      },
      "source": [
        "28.\tWrite Python Program to Find the Sum of First N Natural Numbers"
      ]
    },
    {
      "cell_type": "code",
      "execution_count": null,
      "id": "7c087a08-1590-4736-b711-0a02936adcec",
      "metadata": {
        "id": "7c087a08-1590-4736-b711-0a02936adcec"
      },
      "outputs": [],
      "source": []
    },
    {
      "cell_type": "raw",
      "id": "2176b0f1-a141-4bc2-997d-4ada06da54f3",
      "metadata": {
        "id": "2176b0f1-a141-4bc2-997d-4ada06da54f3"
      },
      "source": [
        "29.\tWrite Python Program to Find the Sum of the Series: 1 + 1/2 + 1/3 + ….. + 1/N"
      ]
    },
    {
      "cell_type": "code",
      "execution_count": null,
      "id": "cb40fbe2-ae20-44cc-a27e-9669ee1aa7ec",
      "metadata": {
        "id": "cb40fbe2-ae20-44cc-a27e-9669ee1aa7ec"
      },
      "outputs": [],
      "source": []
    },
    {
      "cell_type": "raw",
      "id": "f3b1f04c-bb45-4646-9873-45e5f93893e1",
      "metadata": {
        "id": "f3b1f04c-bb45-4646-9873-45e5f93893e1"
      },
      "source": [
        "30.\tWrite Python Program to Find the Sum of the Series: 1 + x^2/2 + x^3/3 + … x^n/n"
      ]
    },
    {
      "cell_type": "code",
      "execution_count": null,
      "id": "d9828ef3-2ed6-4b8e-ac0f-064c563a1f3d",
      "metadata": {
        "id": "d9828ef3-2ed6-4b8e-ac0f-064c563a1f3d"
      },
      "outputs": [],
      "source": []
    },
    {
      "cell_type": "raw",
      "id": "40b7d916-514b-47f2-a0eb-ae55d753af6e",
      "metadata": {
        "id": "40b7d916-514b-47f2-a0eb-ae55d753af6e"
      },
      "source": [
        "31.\tWrite Python Program to Compute the Value of Euler's Number e. Use the Formula: e = 1 + 1/1! + 1/2! + …… 1/n!"
      ]
    },
    {
      "cell_type": "code",
      "execution_count": null,
      "id": "d5799359-c35b-49c4-8dfb-97ebf96c9ab0",
      "metadata": {
        "id": "d5799359-c35b-49c4-8dfb-97ebf96c9ab0"
      },
      "outputs": [],
      "source": []
    },
    {
      "cell_type": "raw",
      "id": "b2a8bfff-d836-45ea-9e8f-08b6e0774236",
      "metadata": {
        "id": "b2a8bfff-d836-45ea-9e8f-08b6e0774236"
      },
      "source": [
        "32.\tWrite Python Program to Determine all Pythagorean Triplets in the Range"
      ]
    },
    {
      "cell_type": "code",
      "execution_count": null,
      "id": "635f90d7-f5a1-457e-a204-9a241f2800db",
      "metadata": {
        "id": "635f90d7-f5a1-457e-a204-9a241f2800db"
      },
      "outputs": [],
      "source": []
    },
    {
      "cell_type": "raw",
      "id": "b3f7d150-195d-4e77-9421-ba573ae66188",
      "metadata": {
        "id": "b3f7d150-195d-4e77-9421-ba573ae66188"
      },
      "source": [
        "33.\tWrite Python Program to Search the Number of Times a Particular Number Occurs in a List"
      ]
    },
    {
      "cell_type": "code",
      "execution_count": null,
      "id": "712858b3-af59-45b4-95f8-65193431fc9e",
      "metadata": {
        "id": "712858b3-af59-45b4-95f8-65193431fc9e"
      },
      "outputs": [],
      "source": []
    }
  ],
  "metadata": {
    "kernelspec": {
      "display_name": "Python 3 (ipykernel)",
      "language": "python",
      "name": "python3"
    },
    "language_info": {
      "codemirror_mode": {
        "name": "ipython",
        "version": 3
      },
      "file_extension": ".py",
      "mimetype": "text/x-python",
      "name": "python",
      "nbconvert_exporter": "python",
      "pygments_lexer": "ipython3",
      "version": "3.12.4"
    },
    "colab": {
      "provenance": [],
      "include_colab_link": true
    }
  },
  "nbformat": 4,
  "nbformat_minor": 5
}